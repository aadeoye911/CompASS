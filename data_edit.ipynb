{
 "cells": [
  {
   "cell_type": "code",
   "execution_count": null,
   "metadata": {},
   "outputs": [
    {
     "name": "stdout",
     "output_type": "stream",
     "text": [
      "Empty DataFrame\n",
      "Columns: [Image Hash, Composition, Frame Size, File Paths, Width, Height, Aspect Ratio, Resized Path, Resized Width, Resized Height, Resized Aspect Ratio]\n",
      "Index: []\n"
     ]
    }
   ],
   "source": [
    "# df = pd.read_csv(\"shotdeck_update.csv\")\n",
    "# df_filtered = df[df[\"Frame Size\"].str.split(\", \").str.len() == 3]\n",
    "# print(df_filtered)\n",
    "print (df[df[\"Resized Height\"]].unique)\n",
    "# # Print all first file names from the File Paths column\n",
    "\n",
    "# # Convert File Paths column from string to list\n",
    "# df_unknown = df[(df[\"Composition\"] == \"Unknown\")]\n",
    "\n",
    "# # # Print results\n",
    "# print(df_unknown.head())\n",
    "# df_unknown.to_csv(\"missing_comp.csv\")"
   ]
  },
  {
   "cell_type": "code",
   "execution_count": null,
   "metadata": {},
   "outputs": [],
   "source": [
    "import h5py\n",
    "import torch\n",
    "import pandas as pd\n",
    "\n",
    "def load_attention_maps(hdf5_path, layer_key):\n",
    "    with h5py.File(hdf5_path, \"r\") as f:\n",
    "        data = []\n",
    "        \n",
    "        # Loop through each image group\n",
    "        for image_hash in f.keys():\n",
    "            row_data = {\"image_hash\": image_hash}\n",
    "\n",
    "            # Loop through all layers for this image\n",
    "            for layer_key in f[image_hash].keys():\n",
    "                row_data[layer_key] = torch.Tensor(f[image_hash][layer_key][:])  # Convert back to PyTorch Tensor\n",
    "\n",
    "            data.append(row_data)\n",
    "\n",
    "    return pd.DataFrame(data)"
   ]
  },
  {
   "cell_type": "code",
   "execution_count": 4,
   "metadata": {},
   "outputs": [
    {
     "ename": "",
     "evalue": "",
     "output_type": "error",
     "traceback": [
      "\u001b[1;31mThe Kernel crashed while executing code in the current cell or a previous cell. \n",
      "\u001b[1;31mPlease review the code in the cell(s) to identify a possible cause of the failure. \n",
      "\u001b[1;31mClick <a href='https://aka.ms/vscodeJupyterKernelCrash'>here</a> for more info. \n",
      "\u001b[1;31mView Jupyter <a href='command:jupyter.viewOutput'>log</a> for further details."
     ]
    }
   ],
   "source": [
    "# Load the attention maps into a DataFrame\n",
    "hdf5_path = \"shotdeck_attention_maps.h5\"\n",
    "df_attn_maps = load_attention_maps(hdf5_path)"
   ]
  },
  {
   "cell_type": "code",
   "execution_count": null,
   "metadata": {},
   "outputs": [],
   "source": [
    "# Display DataFrame\n",
    "import ace_tools as tools\n",
    "tools.display_dataframe_to_user(name=\"Loaded Attention Maps\", dataframe=df_attn_maps)"
   ]
  }
 ],
 "metadata": {
  "kernelspec": {
   "display_name": "Python 3",
   "language": "python",
   "name": "python3"
  },
  "language_info": {
   "codemirror_mode": {
    "name": "ipython",
    "version": 3
   },
   "file_extension": ".py",
   "mimetype": "text/x-python",
   "name": "python",
   "nbconvert_exporter": "python",
   "pygments_lexer": "ipython3",
   "version": "3.9.6"
  }
 },
 "nbformat": 4,
 "nbformat_minor": 2
}
