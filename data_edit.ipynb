{
 "cells": [
  {
   "cell_type": "code",
   "execution_count": null,
   "metadata": {},
   "outputs": [],
   "source": [
    "import pandas as pd\n",
    "import ast"
   ]
  },
  {
   "cell_type": "code",
   "execution_count": 30,
   "metadata": {},
   "outputs": [],
   "source": [
    "df = pd.read_csv(\"shotdeck_data.csv\")"
   ]
  },
  {
   "cell_type": "code",
   "execution_count": null,
   "metadata": {},
   "outputs": [
    {
     "name": "stdout",
     "output_type": "stream",
     "text": [
      "                            Image Hash Composition Frame Size  \\\n",
      "632   5da5f45bfd6296ac4ad77ae64e309d17     Unknown         MS   \n",
      "653   5c1c8139d61889d2eafc1e6718b720ce     Unknown         MS   \n",
      "667   e156acee9fef60f186ce592c890c37df     Unknown         MS   \n",
      "754   7d8ae5d26f0bafe090b493433cd2cc07     Unknown         MS   \n",
      "775   e5c2ca9229afd82e4f3d3c529a4cb54d     Unknown    MS, MWS   \n",
      "...                                ...         ...        ...   \n",
      "4470  e1b2ee1de174a120cab016aca4454b07     Unknown         WS   \n",
      "4471  1f42441fd95bc2ab2160a64cd2fa642e     Unknown         WS   \n",
      "4472  33a3b677429be2e5b34fd58edc1a49f6     Unknown         WS   \n",
      "4473  ce0fe54186b23b6c005e0c777f9aadd4     Unknown         WS   \n",
      "4474  7309d3cbdadd5b9ce5b38acc9e5bb4d6     Unknown         WS   \n",
      "\n",
      "                                             File Paths  Width  Height  \\\n",
      "632   ['shotdeck_data/MS/63 - The Royal Tenenbaums.j...   1920     800   \n",
      "653                ['shotdeck_data/MS/55 - Minari.jpg']   1920     802   \n",
      "667   ['shotdeck_data/MS/384 - Once Upon a Time in H...   1920     800   \n",
      "754             ['shotdeck_data/MS/14 - The Rider.jpg']   1920     801   \n",
      "775   ['shotdeck_data/MS/211 - Pineapple Express.jpg...   1920     805   \n",
      "...                                                 ...    ...     ...   \n",
      "4470      ['shotdeck_data/WS/278 - Jennifers Body.jpg']   1920    1035   \n",
      "4471          ['shotdeck_data/WS/537 - The Square.jpg']   1920    1038   \n",
      "4472                ['shotdeck_data/WS/471 - Rent.png']   1920     799   \n",
      "4473           ['shotdeck_data/WS/476 - To Leslie.jpg']   1920     801   \n",
      "4474            ['shotdeck_data/WS/426 - Aftersun.jpg']   1924    1040   \n",
      "\n",
      "      Aspect Ratio  \n",
      "632           2.40  \n",
      "653           2.39  \n",
      "667           2.40  \n",
      "754           2.40  \n",
      "775           2.39  \n",
      "...            ...  \n",
      "4470          1.86  \n",
      "4471          1.85  \n",
      "4472          2.40  \n",
      "4473          2.40  \n",
      "4474          1.85  \n",
      "\n",
      "[610 rows x 7 columns]\n"
     ]
    }
   ],
   "source": [
    "df_filtered = df[df[\"Frame Size\"].str.split(\", \").str.len() == 3]\n",
    "# Print all first file names from the File Paths column\n",
    "# Ensure File Paths column contains lists, then extract first file name from each list\n",
    "\n",
    "\n",
    "# Convert File Paths column from string to list\n",
    "df_unknown = df[(df[\"Composition\"] == \"Unknown\") | (df[\"Frame Size\"] == \"Unknown\")]\n",
    "\n",
    "# Print results\n",
    "print(df_unknown)\n",
    "\n"
   ]
  },
  {
   "cell_type": "code",
   "execution_count": 32,
   "metadata": {},
   "outputs": [],
   "source": [
    "df_unknown.to_csv(\"missing_labels.csv\")"
   ]
  },
  {
   "cell_type": "code",
   "execution_count": null,
   "metadata": {},
   "outputs": [],
   "source": [
    "\n"
   ]
  }
 ],
 "metadata": {
  "kernelspec": {
   "display_name": "Python 3",
   "language": "python",
   "name": "python3"
  },
  "language_info": {
   "codemirror_mode": {
    "name": "ipython",
    "version": 3
   },
   "file_extension": ".py",
   "mimetype": "text/x-python",
   "name": "python",
   "nbconvert_exporter": "python",
   "pygments_lexer": "ipython3",
   "version": "3.9.6"
  }
 },
 "nbformat": 4,
 "nbformat_minor": 2
}
