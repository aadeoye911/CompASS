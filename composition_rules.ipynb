{
 "cells": [
  {
   "cell_type": "code",
   "execution_count": 29,
   "metadata": {},
   "outputs": [],
   "source": [
    "import torch\n",
    "import numpy as np\n",
    "import matplotlib.pyplot as plt\n",
    "\n",
    "def normalize_vector(vector, eps=1e-8):\n",
    "    vector = vector.to(dtype=torch.float32) \n",
    "    norm = torch.norm(vector, p=2)\n",
    "    if norm < eps:\n",
    "        return torch.zeros_like(vector)  # Avoid division by zero\n",
    "    vector = vector / norm\n",
    "    return vector\n",
    "\n",
    "def normalize_map(map):\n",
    "    min = map.min()\n",
    "    max = map.max()\n",
    "    if max == min:\n",
    "        return torch.zeros_like(map) # Avoid division by zero\n",
    "    map = (map - min) / (max - min)\n",
    "    return map\n",
    "\n",
    "def generate_grid_coordinates(H, W):\n",
    "    x_coords, y_coords = torch.meshgrid(torch.arange(W, dtype=torch.float32),\n",
    "                                        torch.arange(H, dtype=torch.float32), \n",
    "                                        indexing=\"xy\")\n",
    "    coords = torch.cat((x_coords.unsqueeze(-1), y_coords.unsqueeze(-1)), dim=-1)\n",
    "    coords = coords + 0.5 # Shift for 0-indexing\n",
    "    return coords\n",
    "\n",
    "def get_grid_center(H, W):\n",
    "    center = torch.tensor([W / 2, H / 2], dtype=torch.float32)\n",
    "    return center\n",
    "\n",
    "def displacement_from_point(positions, point, scaled=False):\n",
    "    displacement = positions - point \n",
    "    if scaled:\n",
    "        scale = torch.amax(positions, dim=(0, 1))\n",
    "        displacement = displacement / (scale + 1e-6)\n",
    "    return displacement\n",
    "\n",
    "def manhattan_distance_to_point(positions, point, scaled=False):\n",
    "    displacement = displacement_from_point(positions, point, scaled)\n",
    "    distances = torch.sum(torch.abs(displacement), dim=-1)  # Scaled L1 norm\n",
    "    return distances\n",
    "\n",
    "def distance_to_line(positions, normal, displacement, signed=False):\n",
    "    normal = normalize_vector(normal)                    \n",
    "    distances = torch.sum(positions * normal, dim=-1) - displacement\n",
    "    if not signed:\n",
    "        distances = torch.abs(distances)\n",
    "    return distances\n",
    "\n",
    "def gaussian_weighting(distances, sigma=1):\n",
    "    distances = torch.exp(- (distances ** 2) / (2 * sigma))\n",
    "    return distances\n",
    "\n",
    "def visualise_attn(attn_map, cmap='Blues'):\n",
    "    plt.figure(figsize=(3, 4))\n",
    "    plt.imshow(attn_map, cmap=cmap)\n",
    "    plt.axis(\"off\")\n",
    "    plt.show()"
   ]
  },
  {
   "cell_type": "code",
   "execution_count": null,
   "metadata": {},
   "outputs": [],
   "source": [
    "def rot_lines(H, W):\n",
    "    positions = generate_grid_coordinates(H, W)\n",
    "    horizontal_normal = torch.tensor([0, 1])\n",
    "    vertical_normal = torch.tensor([1, 0])\n",
    "\n",
    "    H1_distances = distance_to_line(positions, horizontal_normal, H / 3)\n",
    "    H2_distances = distance_to_line(positions, horizontal_normal, 2 * H / 3)\n",
    "    H_distances = torch.min(H1_distances, H2_distances)\n",
    "\n",
    "    V1_distances = distance_to_line(positions, vertical_normal, W / 3)\n",
    "    V2_distances = distance_to_line(positions, vertical_normal, 2 * W / 3)\n",
    "    V_distances = torch.min(V1_distances, V2_distances)\n",
    "\n",
    "    distances = H_distances + V_distances\n",
    "    distances = gaussian_weighting(distances)\n",
    "    print(\"min =\", distances.min().item(), \"max =\", distances.max().item(), \"mean =\", distances.mean().item())\n",
    "    visualise_attn(distances)\n",
    "\n",
    "    return distances\n",
    "\n",
    "def rot_points(H, W):\n",
    "    positions = generate_grid_coordinates(H, W)\n",
    "    dist_1 = manhattan_distance_to_point(positions, torch.tensor([W / 3, H / 3]))\n",
    "    dist_2 = manhattan_distance_to_point(positions, torch.tensor([2 * W / 3, H / 3]))\n",
    "    dist_3 = manhattan_distance_to_point(positions, torch.tensor([W / 3, 2 * H / 3]))\n",
    "    dist_4 = manhattan_distance_to_point(positions, torch.tensor([2 * W / 3, 2 * H / 3]))\n",
    "\n",
    "    distances = torch.min(torch.stack([dist_1, dist_2, dist_3, dist_4], dim=0), dim=0).values\n",
    "    distances = gaussian_weighting(distances)\n",
    "    print(\"min =\", distances.min().item(), \"max =\", distances.max().item(), \"mean =\", distances.mean().item())\n",
    "    visualise_attn(distances)\n",
    "\n",
    "    return distances\n",
    "\n",
    "def symmetry_mse(attn_map, sigma=1):\n",
    "    H, W = attn_map.shape\n",
    "    attn_map = normalize_map(attn_map)\n",
    "    mirror = torch.flip(attn_map, dims=[1])  # Flip horizontal\n",
    "    score = torch.mean((attn_map - mirror)**2)\n",
    "    return score\n",
    "\n",
    "def symmetry_gaussian(attn_map):\n",
    "    attn_map = normalize_map(attn_map)\n",
    "    mirror = torch.flip(attn_map, dims=[1])  # Flip horizontal\n",
    "    weight = gaussian_weighting((attn_map - mirror)**2, torch.var(attn_map**2)/10)\n",
    "    print(\"min =\", weight.min().item(), \"max =\", weight.max().item(), \"mean =\", weight.mean().item())\n",
    "    visualise_attn(weight, cmap='hot')\n",
    "    score = torch.mean(weight)\n",
    "    return score\n",
    "\n",
    "def moment_of_balance(attn_map):\n",
    "    H, W = attn_map.shape \n",
    "    positions = generate_grid_coordinates(H, W)\n",
    "    attn_mass = torch.sum(attn_map) + 1e-6 # Avoid division by zero\n",
    "    moments = torch.sum(attn_map.unsqueeze(-1) * positions, dim=(0,1)) \n",
    "    centroid = moments / attn_mass\n",
    "    centroid = centroid * (torch.abs(centroid) > 1e-7)  # Set small values to zero\n",
    "    image_center = get_grid_center(H, W)\n",
    "    score = manhattan_distance_to_point(centroid, image_center)\n",
    "    \n",
    "    return score, centroid\n",
    "\n",
    "def second_moment(attn_map, reference_point):\n",
    "    H, W = attn_map.shape\n",
    "    positions = generate_grid_coordinates(H, W)  # Shape: (H, W, 2)\n",
    "    \n",
    "    # Compute squared Euclidean distance from reference point\n",
    "    distances_sq = torch.sum((positions - reference_point) ** 2, dim=-1)\n",
    "    \n",
    "    # Weighted sum of squared distances\n",
    "    attn_mass = torch.sum(attn_map) + 1e-6  # Avoid division by zero\n",
    "    second_moment = torch.sum(attn_map * distances_sq) / attn_mass\n",
    "    \n",
    "    return second_moment\n",
    "\n",
    "def skewness(attn_map, reference_point):\n",
    "    H, W = attn_map.shape\n",
    "    positions = generate_grid_coordinates(H, W)  # Shape: (H, W, 2)\n",
    "    \n",
    "    # Compute mean-centered coordinates\n",
    "    centered_positions = positions - reference_point  # Shape: (H, W, 2)\n",
    "    \n",
    "    # Compute standard deviation for x and y\n",
    "    attn_mass = torch.sum(attn_map) + 1e-6\n",
    "    std_dev = torch.sqrt(torch.sum(attn_map.unsqueeze(-1) * centered_positions**2, dim=(0,1)) / attn_mass)\n",
    "    \n",
    "    # Compute skewness (third moment)\n",
    "    skewness = torch.sum(attn_map.unsqueeze(-1) * (centered_positions / (std_dev + 1e-6))**3, dim=(0,1)) / attn_mass\n",
    "    \n",
    "    return skewness\n",
    "\n",
    "# APPROACHES TO CONSIDER\n",
    "# Moments (centroid, variance, skewness) → Statistical balance.\n",
    "# Fourier transform → Spatial balance, symmetry, rule-of-thirds.\n",
    "# Divergence & curl → Vector field balance, spread, and rotational asymmetry.\n",
    "# PCA → Dominant attention directions and feature reduction."
   ]
  },
  {
   "cell_type": "code",
   "execution_count": 43,
   "metadata": {},
   "outputs": [
    {
     "name": "stdout",
     "output_type": "stream",
     "text": [
      "min = 8.323913474862993e-16 max = 0.8007375001907349 mean = 0.08024037629365921\n"
     ]
    },
    {
     "data": {
      "image/png": "[encoded data removed]",
      "text/plain": [
       "<Figure size 300x400 with 1 Axes>"
      ]
     },
     "metadata": {},
     "output_type": "display_data"
    },
    {
     "name": "stdout",
     "output_type": "stream",
     "text": [
      "min = 8.323913474862993e-16 max = 0.8007375001907349 mean = 0.08024037629365921\n"
     ]
    },
    {
     "data": {
      "image/png": "[encoded data removed]",
      "text/plain": [
       "<Figure size 300x400 with 1 Axes>"
      ]
     },
     "metadata": {},
     "output_type": "display_data"
    },
    {
     "data": {
      "image/png": "[encoded data removed]",
      "text/plain": [
       "<Figure size 300x400 with 1 Axes>"
      ]
     },
     "metadata": {},
     "output_type": "display_data"
    }
   ],
   "source": [
    "lines = rot_lines(12, 16)\n",
    "points = rot_points(12, 16)\n",
    "visualise_attn(torch.abs(lines - points), \"hot\")"
   ]
  },
  {
   "cell_type": "code",
   "execution_count": null,
   "metadata": {},
   "outputs": [],
   "source": []
  },
  {
   "cell_type": "code",
   "execution_count": null,
   "metadata": {},
   "outputs": [],
   "source": []
  },
  {
   "cell_type": "code",
   "execution_count": 34,
   "metadata": {},
   "outputs": [
    {
     "data": {
      "image/png": "[encoded data removed]",
      "text/plain": [
       "<Figure size 300x400 with 1 Axes>"
      ]
     },
     "metadata": {},
     "output_type": "display_data"
    },
    {
     "data": {
      "text/plain": [
       "(tensor(0.), tensor([6.0000, 2.5000]))"
      ]
     },
     "execution_count": 34,
     "metadata": {},
     "output_type": "execute_result"
    }
   ],
   "source": [
    "H, W = 5, 12\n",
    "# attn_map = torch.randn(H, W)\n",
    "normal_vector = torch.tensor([1, 0])\n",
    "displacement = W / 2\n",
    "positions = generate_grid_coordinates(H, W)\n",
    "test_grid = distance_to_line(positions, normal_vector, displacement)\n",
    "attn_map = normalize_map(test_grid)\n",
    "visualise_attn(attn_map)\n",
    "# balance_score(attn_map)\n",
    "moment_of_balance(attn_map)"
   ]
  },
  {
   "cell_type": "code",
   "execution_count": 35,
   "metadata": {},
   "outputs": [
    {
     "data": {
      "image/png": "[encoded data removed]",
      "text/plain": [
       "<Figure size 300x400 with 1 Axes>"
      ]
     },
     "metadata": {},
     "output_type": "display_data"
    },
    {
     "data": {
      "text/plain": [
       "(tensor(43.7107), tensor([35.5517, 67.6589]))"
      ]
     },
     "execution_count": 35,
     "metadata": {},
     "output_type": "execute_result"
    }
   ],
   "source": [
    "attn_map = torch.randn(51, 68)\n",
    "visualise_attn(attn_map)\n",
    "normalize_map(attn_map)\n",
    "symmetry_mse(attn_map)\n",
    "moment_of_balance(attn_map)"
   ]
  },
  {
   "cell_type": "code",
   "execution_count": null,
   "metadata": {},
   "outputs": [],
   "source": [
    "def generate_checkerboard(H=10, W=10):\n",
    "    \"\"\"Generate a symmetric checkerboard pattern as a torch tensor.\"\"\"\n",
    "    return torch.tensor(torch.arange(H) % 2).repeat(W, 1) ^ torch.tensor(torch.arange(H) % 2).repeat(W, 1).T\n",
    "\n",
    "def generate_gradient(H=10, W=10):\n",
    "    \"\"\"Generate a linear gradient pattern as a torch tensor.\"\"\"\n",
    "    return torch.linspace(0, 1, W).repeat(H, 1)\n",
    "\n",
    "def generate_radial_pattern(H=10, W=10):\n",
    "    \"\"\"Generate a radial gradient pattern as a torch tensor.\"\"\"\n",
    "    x, y = torch.meshgrid(torch.linspace(-1, 1, W), torch.linspace(-1, 1, H), indexing=\"xy\")\n",
    "    return torch.sqrt(x**2 + y**2)\n",
    "\n",
    "def generate_spiral(H=10, W=10):\n",
    "    \"\"\"Generate a simple spiral pattern as a torch tensor.\"\"\"\n",
    "    x, y = torch.meshgrid(torch.linspace(-1, 1, W), torch.linspace(-1, 1, H), indexing=\"xy\")\n",
    "    return torch.sin(10 * torch.atan2(y, x))\n",
    "\n",
    "def generate_noise(H=10, W=10):\n",
    "    \"\"\"Generate random noise pattern as a torch tensor.\"\"\"\n",
    "    return torch.rand(H, W)\n",
    "\n",
    "def generate_conway_life(size=10, steps=5):\n",
    "    \"\"\"Generate a simple Conway's Game of Life pattern as a torch tensor.\"\"\"\n",
    "    grid = torch.randint(0, 2, (size, size))\n",
    "    for _ in range(steps):\n",
    "        new_grid = grid.clone()\n",
    "        for i in range(1, size-1):\n",
    "            for j in range(1, size-1):\n",
    "                neighbors = torch.sum(grid[i-1:i+2, j-1:j+2]) - grid[i, j]\n",
    "                if grid[i, j] == 1 and (neighbors < 2 or neighbors > 3):\n",
    "                    new_grid[i, j] = 0\n",
    "                elif grid[i, j] == 0 and neighbors == 3:\n",
    "                    new_grid[i, j] = 1\n",
    "        grid = new_grid\n",
    "    return grid.float()\n",
    "\n",
    "def generate_even_distribution(size=10):\n",
    "    \"\"\"Generate a pattern with evenly spaced salient pixels.\"\"\"\n",
    "    pattern = torch.zeros(size, size)\n",
    "    pattern[::2, ::2] = 1  # Every second pixel is highlighted\n",
    "    return pattern"
   ]
  },
  {
   "cell_type": "code",
   "execution_count": 39,
   "metadata": {},
   "outputs": [
    {
     "name": "stderr",
     "output_type": "stream",
     "text": [
      "/var/folders/18/h9m9_ktj0j95_gs7__ncptgc0000gn/T/ipykernel_63755/3079313098.py:3: UserWarning: To copy construct from a tensor, it is recommended to use sourceTensor.clone().detach() or sourceTensor.clone().detach().requires_grad_(True), rather than torch.tensor(sourceTensor).\n",
      "  return torch.tensor(torch.arange(H) % 2).repeat(W, 1) ^ torch.tensor(torch.arange(H) % 2).repeat(W, 1).T\n"
     ]
    },
    {
     "data": {
      "image/png": "[encoded data removed]",
      "text/plain": [
       "<Figure size 1500x800 with 4 Axes>"
      ]
     },
     "metadata": {},
     "output_type": "display_data"
    }
   ],
   "source": [
    "# Generate all patterns\n",
    "patterns = {\n",
    "    \"Checkerboard\": generate_checkerboard(),\n",
    "    \"Gradient\": generate_gradient(),\n",
    "    \"Radial Pattern\": generate_radial_pattern(),\n",
    "    \"Spiral\": generate_spiral(),\n",
    "    \"Noise\": generate_noise(),\n",
    "}\n",
    "\n",
    "# Display the patterns\n",
    "fig, axes = plt.subplots(2, len(patterns) // 2, figsize=(15, 8))\n",
    "axes = axes.flatten()\n",
    "for ax, (title, pattern) in zip(axes, patterns.items()):\n",
    "    ax.imshow(pattern, cmap='gray', interpolation='nearest')\n",
    "    ax.set_title(title)\n",
    "    ax.axis('off')"
   ]
  }
 ],
 "metadata": {
  "kernelspec": {
   "display_name": "Python 3",
   "language": "python",
   "name": "python3"
  },
  "language_info": {
   "codemirror_mode": {
    "name": "ipython",
    "version": 3
   },
   "file_extension": ".py",
   "mimetype": "text/x-python",
   "name": "python",
   "nbconvert_exporter": "python",
   "pygments_lexer": "ipython3",
   "version": "3.9.6"
  }
 },
 "nbformat": 4,
 "nbformat_minor": 2
}
